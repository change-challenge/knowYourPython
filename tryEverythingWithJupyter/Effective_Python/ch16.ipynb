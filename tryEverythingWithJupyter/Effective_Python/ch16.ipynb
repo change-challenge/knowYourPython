{
 "cells": [
  {
   "cell_type": "code",
   "id": "initial_id",
   "metadata": {
    "collapsed": true,
    "ExecuteTime": {
     "end_time": "2025-02-17T00:04:03.192623Z",
     "start_time": "2025-02-17T00:04:03.186302Z"
    }
   },
   "source": [
    "# CH16. in을 사용하고 딕셔너리 키가 없을 때 KeyError를 처리하기보다는 get을 사용해라\n",
    "\n",
    "counters = {\n",
    "    '품퍼니켈' : 2,\n",
    "    '사워도우' : 1,\n",
    "}\n",
    "\n",
    "# in을 이용하여 있는 지 없는 지 확인해서 값을 수정하는 방법\n",
    "key = '밀'\n",
    "\n",
    "if key in counters:\n",
    "    count = counters[key]\n",
    "else:\n",
    "    count = 0\n",
    "\n",
    "counters[key] = count + 1\n",
    "\n",
    "# 아니면 아래와 같이 keyError로 예외처리를 할 수도 있다.\n",
    "try:\n",
    "    count = counters[key]\n",
    "except KeyError:\n",
    "    count = 0\n",
    "\n",
    "counters[key] = count + 1\n",
    "\n",
    "# 또한, dict 내장함수 get의 두번째 인자를 쓰게 되면 더더욱 간단하게 처리할 수 있다.\n",
    "count = counters.get(key, 0)\n",
    "counters[key] = count + 1"
   ],
   "outputs": [],
   "execution_count": 1
  },
  {
   "metadata": {
    "ExecuteTime": {
     "end_time": "2025-02-17T00:05:25.788262Z",
     "start_time": "2025-02-17T00:05:25.784793Z"
    }
   },
   "cell_type": "code",
   "source": [
    "# 상단에서는 결국\n",
    "# 값이 있는 지 없는 지 in을 확인하기위해 1) if문을 쓰거나 2) keyError를 쓰거나 3) get을 썼다"
   ],
   "id": "11b1ca7a133a8e95",
   "outputs": [],
   "execution_count": 2
  },
  {
   "metadata": {
    "ExecuteTime": {
     "end_time": "2025-02-17T00:14:14.360362Z",
     "start_time": "2025-02-17T00:14:14.355408Z"
    }
   },
   "cell_type": "code",
   "source": [
    "# 다른 상황 예시\n",
    "# 딕셔너리의 value가 리스트인 경우\n",
    "votes = {\n",
    "    '바게트' : ['철수', '순이'],\n",
    "    '화이트' : ['하니', '유리'],\n",
    "}\n",
    "key = '브리오슈'\n",
    "who = '단이'\n",
    "\n",
    "if key in votes:\n",
    "    names = votes[key]\n",
    "else:\n",
    "    votes[key] = names = [] # 진짜 겁나 신기하게 python은 names가 if문 안에 있지만 밖에서도 쓸 수 있고, 딕셔너리에 넣으면 참조를 통해 리스트 내용을 변경할 수 있다.\n",
    "print(names)\n",
    "names.append(who)\n",
    "print(names)\n",
    "print(votes)\n",
    "\n",
    "####################################\n",
    "try:\n",
    "    names = votes[key]\n",
    "except KeyError:\n",
    "    votes[key] = names = []\n",
    "names.append(who)\n",
    "\n",
    "####################################\n",
    "names = votes.get(key)\n",
    "if names is None:\n",
    "    votes[key] = names = []\n",
    "names.append(who)\n",
    "\n",
    "####################################\n",
    "names = votes.get(key)\n",
    "if names is None:\n",
    "    votes[key] = names = []\n",
    "names.append(who)\n",
    "\n",
    "####################################\n",
    "# 왈러스연산자를 연산자를 사용하면 할당과 동시에 값을 비교할 수도 있다.\n",
    "if (names := votes.get(key)) is None:\n",
    "    votes[key] = names = []\n",
    "\n",
    "####################################\n",
    "names = votes.setdefault(key, [])\n",
    "names.append(who)\n"
   ],
   "id": "e77e8252143e891e",
   "outputs": [
    {
     "name": "stdout",
     "output_type": "stream",
     "text": [
      "[]\n",
      "['단이']\n",
      "{'바게트': ['철수', '순이'], '화이트': ['하니', '유리'], '브리오슈': ['단이']}\n"
     ]
    }
   ],
   "execution_count": 6
  },
  {
   "metadata": {},
   "cell_type": "code",
   "outputs": [],
   "execution_count": null,
   "source": [
    "# setdefault를 쓸 때 조심해야할 점\n",
    "# setdefault는 data.setdefault('foo', [])으로 할당이 되는데\n",
    "# 이렇게 하면 매번 빈 리스트인 []을 무조건 할당하게 된다."
   ],
   "id": "7486971963df316"
  }
 ],
 "metadata": {
  "kernelspec": {
   "display_name": "Python 3",
   "language": "python",
   "name": "python3"
  },
  "language_info": {
   "codemirror_mode": {
    "name": "ipython",
    "version": 2
   },
   "file_extension": ".py",
   "mimetype": "text/x-python",
   "name": "python",
   "nbconvert_exporter": "python",
   "pygments_lexer": "ipython2",
   "version": "2.7.6"
  }
 },
 "nbformat": 4,
 "nbformat_minor": 5
}
