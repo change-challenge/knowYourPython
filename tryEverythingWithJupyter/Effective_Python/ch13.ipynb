{
 "cells": [
  {
   "cell_type": "code",
   "id": "initial_id",
   "metadata": {
    "collapsed": true,
    "ExecuteTime": {
     "end_time": "2025-01-22T00:03:38.828636Z",
     "start_time": "2025-01-22T00:03:38.821350Z"
    }
   },
   "source": [
    "# ch14. 복잡한 기준을 사용해 정렬할 떄는 key 파라미터를 사용하라\n",
    "\n",
    "numbers = [93, 86, 11, 68, 70]\n",
    "numbers.sort()\n",
    "print(numbers)"
   ],
   "outputs": [
    {
     "name": "stdout",
     "output_type": "stream",
     "text": [
      "[11, 68, 70, 86, 93]\n"
     ]
    }
   ],
   "execution_count": 1
  },
  {
   "metadata": {
    "ExecuteTime": {
     "end_time": "2025-01-22T00:22:30.021713Z",
     "start_time": "2025-01-22T00:22:30.014808Z"
    }
   },
   "cell_type": "code",
   "source": [
    "class Tool:\n",
    "    def __init__(self, name, weight):\n",
    "        self.name = name\n",
    "        self.weight = weight\n",
    "\n",
    "    def __repr__(self):\n",
    "        return f'Tool({self.name!r}, {self.weight})'\n",
    "\n",
    "tools = [\n",
    "    Tool('수준계', 3.5),\n",
    "    Tool('해머', 1.25),\n",
    "    Tool('스크류드라이버', 0.5),\n",
    "    Tool('끌', 0.25),\n",
    "]\n",
    "\n",
    "print(tools)\n",
    "# tools.sort() <- 이 부분은 당연히 sort에 대한 정의가 되어있지 않기에 오류가 뜰 수 밖에 없다."
   ],
   "id": "3827115eb2805335",
   "outputs": [
    {
     "name": "stdout",
     "output_type": "stream",
     "text": [
      "[Tool('수준계', 3.5), Tool('해머', 1.25), Tool('스크류드라이버', 0.5), Tool('끌', 0.25)]\n"
     ]
    }
   ],
   "execution_count": 29
  },
  {
   "metadata": {
    "ExecuteTime": {
     "end_time": "2025-01-22T00:11:21.988141Z",
     "start_time": "2025-01-22T00:11:21.981176Z"
    }
   },
   "cell_type": "code",
   "source": [
    "# 정렬에 사용하고 싶은 애트리뷰트가 객체에 들어 있는 경우가 있다.\n",
    "# 이런 상황을 지원하기 위해 sort에는 key라는 파라미터가 있다.\n",
    "# key는 정렬에 사용할 함수를 지정하는 파라미터이다.\n",
    "\n",
    "print('미정렬:', repr(tools))\n",
    "tools.sort(key=lambda x: x.name)\n",
    "print('\\n이름으로 정렬:', tools)\n",
    "tools.sort(key=lambda x: x.weight)\n",
    "print('\\n무게로 정렬:', tools)\n",
    "tools.sort(key=lambda x: x.name, reverse=True)\n",
    "print('\\n이름으로 역정렬:', tools)"
   ],
   "id": "774caa2379faea0a",
   "outputs": [
    {
     "name": "stdout",
     "output_type": "stream",
     "text": [
      "미정렬: [Tool('해머', 1.25), Tool('스크류드라이버', 0.5), Tool('수준계', 3.5), Tool('끌', 0.25)]\n",
      "\n",
      "이름으로 정렬: [Tool('끌', 0.25), Tool('수준계', 3.5), Tool('스크류드라이버', 0.5), Tool('해머', 1.25)]\n",
      "\n",
      "무게로 정렬: [Tool('끌', 0.25), Tool('스크류드라이버', 0.5), Tool('해머', 1.25), Tool('수준계', 3.5)]\n",
      "\n",
      "이름으로 역정렬: [Tool('해머', 1.25), Tool('스크류드라이버', 0.5), Tool('수준계', 3.5), Tool('끌', 0.25)]\n"
     ]
    }
   ],
   "execution_count": 11
  },
  {
   "metadata": {
    "ExecuteTime": {
     "end_time": "2025-01-22T00:13:08.501023Z",
     "start_time": "2025-01-22T00:13:08.495380Z"
    }
   },
   "cell_type": "code",
   "source": [
    "# 이런 경우도 있을 수 있다.\n",
    "places = ['home', 'work', 'New York', 'Paris']\n",
    "places.sort()\n",
    "print('대소문자 구분:', places)\n",
    "places.sort(key=lambda x: x.lower())\n",
    "print('대소문자 구분 없음:', places)"
   ],
   "id": "310bb80e9b20cf2c",
   "outputs": [
    {
     "name": "stdout",
     "output_type": "stream",
     "text": [
      "대소문자 구분: ['New York', 'Paris', 'home', 'work']\n",
      "대소문자 구분 없음: ['home', 'New York', 'Paris', 'work']\n"
     ]
    }
   ],
   "execution_count": 13
  },
  {
   "metadata": {
    "ExecuteTime": {
     "end_time": "2025-01-22T00:18:49.615014Z",
     "start_time": "2025-01-22T00:18:49.607060Z"
    }
   },
   "cell_type": "code",
   "source": [
    "# 여러 기준을 사용해 정렬해야할 수도 있다.\n",
    "power_tools = [\n",
    "    Tool('드릴', 4),\n",
    "    Tool('드릴', 10),\n",
    "    Tool('감자', 4),\n",
    "    Tool('원형 톱', 5),\n",
    "    Tool('착암기', 40),\n",
    "    Tool('연마기', 4),\n",
    "]\n",
    "\n",
    "# 튜플을 사용해서 해결할 수 있다.\n",
    "\n",
    "saw = (5, '원형 톱')\n",
    "jackhammer = (40, '착암기')\n",
    "assert not (jackhammer < saw) # 이런 식으로 비교할 수 있다.\n",
    "\n",
    "power_tools.sort(key=lambda x: (x.weight, x.name))\n",
    "print(power_tools)\n",
    "power_tools.sort(key=lambda x: (x.name, x.weight))\n",
    "print(power_tools)\n",
    "power_tools.sort(key=lambda x: (-x.weight, x.name))\n",
    "print(power_tools)\n",
    "\n",
    "# 이렇게 어떤 것을 1차 기준으로 둘지도 정할 수 있다.\n",
    "\n",
    "drill = (4, '드릴')\n",
    "sander = (4, '연마기')\n",
    "assert drill[0] == sander[0]\n",
    "assert drill[1] < sander[1]\n",
    "assert drill < sander"
   ],
   "id": "41a9d01284d78240",
   "outputs": [
    {
     "name": "stdout",
     "output_type": "stream",
     "text": [
      "[Tool('감자', 4), Tool('드릴', 4), Tool('연마기', 4), Tool('원형 톱', 5), Tool('드릴', 10), Tool('착암기', 40)]\n",
      "[Tool('감자', 4), Tool('드릴', 4), Tool('드릴', 10), Tool('연마기', 4), Tool('원형 톱', 5), Tool('착암기', 40)]\n",
      "[Tool('착암기', 40), Tool('드릴', 10), Tool('원형 톱', 5), Tool('감자', 4), Tool('드릴', 4), Tool('연마기', 4)]\n"
     ]
    }
   ],
   "execution_count": 27
  },
  {
   "metadata": {},
   "cell_type": "code",
   "outputs": [],
   "execution_count": null,
   "source": "",
   "id": "50191acc7fdea42"
  }
 ],
 "metadata": {
  "kernelspec": {
   "display_name": "Python 3",
   "language": "python",
   "name": "python3"
  },
  "language_info": {
   "codemirror_mode": {
    "name": "ipython",
    "version": 2
   },
   "file_extension": ".py",
   "mimetype": "text/x-python",
   "name": "python",
   "nbconvert_exporter": "python",
   "pygments_lexer": "ipython2",
   "version": "2.7.6"
  }
 },
 "nbformat": 4,
 "nbformat_minor": 5
}
