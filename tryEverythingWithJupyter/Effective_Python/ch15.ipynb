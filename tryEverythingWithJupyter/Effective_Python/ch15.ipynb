{
 "cells": [
  {
   "cell_type": "code",
   "id": "initial_id",
   "metadata": {
    "collapsed": true,
    "ExecuteTime": {
     "end_time": "2025-01-23T00:40:58.364470Z",
     "start_time": "2025-01-23T00:40:58.358285Z"
    }
   },
   "source": [
    "# CH.15 딕셔너리 삽입 순서에 의존할 떄는 조심해라\n",
    "# 과거 python3.5에서는 딕셔너리를 만들 때 순서가 보장이 되지 않았다.\n",
    "# 마치 다른 언어들처럼\n",
    "\n",
    "# python에서 이런 것들이 발생하는 이유는\n",
    "# 딕셔너리 구현이 내장 hash 함수와 파이썬 인터프리터가 시작할 때 초기화되는 난수 씨앗값을 사용하는 해시 테이블 알고리즘으로 만들어졌기 때문에\n",
    "\n",
    "baby_names = {\n",
    "    'cat': 'kitten',\n",
    "    'dog': 'puppy',\n",
    "}\n",
    "\n",
    "print(baby_names)"
   ],
   "outputs": [
    {
     "name": "stdout",
     "output_type": "stream",
     "text": [
      "{'cat': 'kitten', 'dog': 'puppy'}\n"
     ]
    }
   ],
   "execution_count": 6
  },
  {
   "metadata": {
    "ExecuteTime": {
     "end_time": "2025-01-23T00:47:54.541154Z",
     "start_time": "2025-01-23T00:47:54.533942Z"
    }
   },
   "cell_type": "code",
   "source": [
    "# python 3.7 이후부터는 순서대로 딕셔너리의 내용을 표시한다. (파이썬 언어 명세의 일부가 되었다.)\n",
    "print(list(baby_names.keys()))\n",
    "print(list(baby_names.values()))\n",
    "print(list(baby_names.items()))\n",
    "print(baby_names.popitem())"
   ],
   "id": "75faa626984f58f3",
   "outputs": [
    {
     "name": "stdout",
     "output_type": "stream",
     "text": [
      "['cat', 'dog']\n",
      "['kitten', 'puppy']\n",
      "[('cat', 'kitten'), ('dog', 'puppy')]\n",
      "('dog', 'puppy')\n"
     ]
    }
   ],
   "execution_count": 8
  },
  {
   "metadata": {
    "ExecuteTime": {
     "end_time": "2025-01-23T00:50:56.898088Z",
     "start_time": "2025-01-23T00:50:56.893012Z"
    }
   },
   "cell_type": "code",
   "source": [
    "class MyClass:\n",
    "    def __init__(self):\n",
    "        self.alligator = 'hatchling'\n",
    "        self.elephant = 'calf'\n",
    "\n",
    "a = MyClass()\n",
    "for key, value in a.__dict__.items():\n",
    "    print(f'{key} = {value}')"
   ],
   "id": "5e5912e6de1dfd2c",
   "outputs": [
    {
     "name": "stdout",
     "output_type": "stream",
     "text": [
      "alligator = hatchling\n",
      "elephant = calf\n"
     ]
    }
   ],
   "execution_count": 10
  },
  {
   "metadata": {
    "ExecuteTime": {
     "end_time": "2025-01-23T01:47:31.819994Z",
     "start_time": "2025-01-23T01:47:31.811437Z"
    }
   },
   "cell_type": "code",
   "source": [
    "# 덕 타이핑\n",
    "votes = {\n",
    "    'otter': 1281,\n",
    "    'polar bear': 587,\n",
    "    'fox': 864,\n",
    "}\n",
    "\n",
    "def populate_ranks(votes, ranks):\n",
    "    names = list(votes.keys())\n",
    "    names.sort(key=votes.get, reverse=True)\n",
    "    for i, name in enumerate(names, 1):\n",
    "        ranks[name] = i\n",
    "\n",
    "def get_winner(ranks):\n",
    "    return next(iter(ranks))\n",
    "\n",
    "ranks = {}\n",
    "populate_ranks(votes, ranks)\n",
    "print(ranks)\n",
    "winner = get_winner(ranks)\n",
    "print(winner)"
   ],
   "id": "9628669932dd49ac",
   "outputs": [
    {
     "name": "stdout",
     "output_type": "stream",
     "text": [
      "names : ['otter', 'polar bear', 'fox']\n",
      "after names : ['otter', 'fox', 'polar bear']\n",
      "{'otter': 1, 'fox': 2, 'polar bear': 3}\n",
      "otter\n"
     ]
    }
   ],
   "execution_count": 18
  },
  {
   "metadata": {
    "ExecuteTime": {
     "end_time": "2025-01-23T01:28:32.108409Z",
     "start_time": "2025-01-23T01:28:32.098558Z"
    }
   },
   "cell_type": "code",
   "source": [
    "from collections.abc import MutableMapping\n",
    "\n",
    "class SortedDict(MutableMapping):\n",
    "    def __init__(self):\n",
    "        self.data = {}\n",
    "\n",
    "    def __getitem__(self, key):\n",
    "        return self.data[key]\n",
    "\n",
    "    def __setitem__(self, key, value):\n",
    "        self.data[key] = value\n",
    "\n",
    "    def __delitem__(self, key):\n",
    "        del self.data[key]\n",
    "\n",
    "    def __iter__(self): # 이것이 핵심일 듯\n",
    "        keys = list(self.data.keys())\n",
    "        keys.sort()\n",
    "        for key in keys:\n",
    "            yield key\n",
    "\n",
    "    def __len__(self):\n",
    "        return len(self.data)\n",
    "\n",
    "# 아래와 같이 SortedDict()을 선언하면 인스턴스가 생성되는 것이지만\n",
    "# 표준 딕셔너리의 프로토콜을 지키므로 populate_ranks 함수에서 사용할 수 있다.\n",
    "sorted_ranks = SortedDict()\n",
    "populate_ranks(votes, sorted_ranks)\n",
    "print(sorted_ranks.data)\n",
    "winner = get_winner(sorted_ranks)\n",
    "print(winner)"
   ],
   "id": "364f9b5d08e32cf5",
   "outputs": [
    {
     "name": "stdout",
     "output_type": "stream",
     "text": [
      "{'otter': 1, 'fox': 2, 'polar bear': 3}\n",
      "fox\n"
     ]
    }
   ],
   "execution_count": 3
  },
  {
   "metadata": {
    "ExecuteTime": {
     "end_time": "2025-01-23T01:35:39.108036Z",
     "start_time": "2025-01-23T01:35:39.102918Z"
    }
   },
   "cell_type": "code",
   "source": [
    "# 근데 이렇게 하니 winner로 fox가 나오게 된다.\n",
    "# 이유는 get_winner 함수에서 next(iter(ranks))를 사용했기 때문이다. <- 알파벳 순서 가장 먼저 오는 애가 사용\n",
    "\n",
    "# def get_winner(ranks):\n",
    "#     return next(iter(ranks))\n",
    "# 딕셔너리가 어떤 특정 순서로 이터레이션된다고 가정하지 않고 구현\n",
    "def get_winner(ranks):\n",
    "    for name, rank in ranks.items():\n",
    "        if rank == 1:\n",
    "            return name\n",
    "\n",
    "winner = get_winner(sorted_ranks)\n",
    "print(winner)"
   ],
   "id": "601cceff1ebc8430",
   "outputs": [
    {
     "name": "stdout",
     "output_type": "stream",
     "text": [
      "otter\n"
     ]
    }
   ],
   "execution_count": 5
  },
  {
   "metadata": {
    "ExecuteTime": {
     "end_time": "2025-01-23T01:37:00.528586Z",
     "start_time": "2025-01-23T01:37:00.159401Z"
    }
   },
   "cell_type": "code",
   "source": [
    "def get_winner(ranks):\n",
    "    if not isinstance(ranks, dict):\n",
    "        raise TypeError('dict 인스턴스가 필요합니다.')\n",
    "    return next(iter(ranks))\n",
    "\n",
    "winner = get_winner(sorted_ranks)\n",
    "print(winner)"
   ],
   "id": "554cbf5538dce052",
   "outputs": [
    {
     "ename": "TypeError",
     "evalue": "dict 인스턴스가 필요합니다.",
     "output_type": "error",
     "traceback": [
      "\u001B[0;31m---------------------------------------------------------------------------\u001B[0m",
      "\u001B[0;31mTypeError\u001B[0m                                 Traceback (most recent call last)",
      "Cell \u001B[0;32mIn[6], line 6\u001B[0m\n\u001B[1;32m      3\u001B[0m         \u001B[38;5;28;01mraise\u001B[39;00m \u001B[38;5;167;01mTypeError\u001B[39;00m(\u001B[38;5;124m'\u001B[39m\u001B[38;5;124mdict 인스턴스가 필요합니다.\u001B[39m\u001B[38;5;124m'\u001B[39m)\n\u001B[1;32m      4\u001B[0m     \u001B[38;5;28;01mreturn\u001B[39;00m \u001B[38;5;28mnext\u001B[39m(\u001B[38;5;28miter\u001B[39m(ranks))\n\u001B[0;32m----> 6\u001B[0m winner \u001B[38;5;241m=\u001B[39m \u001B[43mget_winner\u001B[49m\u001B[43m(\u001B[49m\u001B[43msorted_ranks\u001B[49m\u001B[43m)\u001B[49m\n\u001B[1;32m      7\u001B[0m \u001B[38;5;28mprint\u001B[39m(winner)\n",
      "Cell \u001B[0;32mIn[6], line 3\u001B[0m, in \u001B[0;36mget_winner\u001B[0;34m(ranks)\u001B[0m\n\u001B[1;32m      1\u001B[0m \u001B[38;5;28;01mdef\u001B[39;00m\u001B[38;5;250m \u001B[39m\u001B[38;5;21mget_winner\u001B[39m(ranks):\n\u001B[1;32m      2\u001B[0m     \u001B[38;5;28;01mif\u001B[39;00m \u001B[38;5;129;01mnot\u001B[39;00m \u001B[38;5;28misinstance\u001B[39m(ranks, \u001B[38;5;28mdict\u001B[39m):\n\u001B[0;32m----> 3\u001B[0m         \u001B[38;5;28;01mraise\u001B[39;00m \u001B[38;5;167;01mTypeError\u001B[39;00m(\u001B[38;5;124m'\u001B[39m\u001B[38;5;124mdict 인스턴스가 필요합니다.\u001B[39m\u001B[38;5;124m'\u001B[39m)\n\u001B[1;32m      4\u001B[0m     \u001B[38;5;28;01mreturn\u001B[39;00m \u001B[38;5;28mnext\u001B[39m(\u001B[38;5;28miter\u001B[39m(ranks))\n",
      "\u001B[0;31mTypeError\u001B[0m: dict 인스턴스가 필요합니다."
     ]
    }
   ],
   "execution_count": 6
  },
  {
   "metadata": {
    "ExecuteTime": {
     "end_time": "2025-01-23T01:39:06.823708Z",
     "start_time": "2025-01-23T01:39:06.816557Z"
    }
   },
   "cell_type": "code",
   "source": [
    "from typing import Dict, MutableMapping\n",
    "\n",
    "def populate_ranks(votes: Dict[str, int],\n",
    "                   ranks: Dict[str, int]) -> None:\n",
    "    names = list(votes.keys())\n",
    "    names.sort(key=votes.get, reverse=True)\n",
    "    for i, name in enumerate(names, 1):\n",
    "        ranks[name] = i\n",
    "\n",
    "def get_winner(ranks: Dict[str, int]) -> str:\n",
    "    return next(iter(ranks))\n",
    "\n",
    "populate_ranks(votes, sorted_ranks)\n",
    "print(sorted_ranks.data)\n",
    "winner = get_winner(sorted_ranks)\n",
    "print(winner)"
   ],
   "id": "1492d240cf721be1",
   "outputs": [
    {
     "name": "stdout",
     "output_type": "stream",
     "text": [
      "{'otter': 1, 'fox': 2, 'polar bear': 3}\n",
      "fox\n"
     ]
    }
   ],
   "execution_count": 8
  },
  {
   "metadata": {},
   "cell_type": "code",
   "outputs": [],
   "execution_count": null,
   "source": [
    "# 결국에 무슨 말이냐하면\n",
    "# 과거 python 3.7이하에는 딕셔너리 순서가 보장이 되지 않았었다.\n",
    "# 이제 python 3.7이상부터는 딕셔너리 순서가 보장이 되는데 우리가 그것을 가정하고 코드를 짜다보면 문제가 생길 수 있다.\n",
    "# (덕타이핑의 문제 : 동적 타입 지정의 일종으로, 객체가 실행 시점에 어떻게 행동하는 지를 기준으로 객체의 타입을 판단하는 타입 지정 방식)\n",
    "# 이 때, 만약에 알파벳 이름으로 정의된 SortedDict 클래스를 만들었다고 생각하자.\n",
    "# 그렇게 되고, get_winner 함수를 쓰게 되면 내부에는 next(iter(ranks))가 있기에 알파벳 순서대로 나오게 된다.\n",
    "# 이런 경우에는 get_winner 함수를 수정해주어야 한다.\n",
    "# 첫번 째 방법 : 아예 items()로 for문 돌면서 rank가 1인 것을 찾는다.\n",
    "# 두번 째 방법 : get_winner 함수에 isinstance를 사용해서 dict인지 확인해준다.\n",
    "# 세번 째 방법 : typing 모듈을 사용해서 Dict, MutableMapping을 사용한다."
   ],
   "id": "a7dc5a531842e130"
  }
 ],
 "metadata": {
  "kernelspec": {
   "display_name": "Python 3",
   "language": "python",
   "name": "python3"
  },
  "language_info": {
   "codemirror_mode": {
    "name": "ipython",
    "version": 2
   },
   "file_extension": ".py",
   "mimetype": "text/x-python",
   "name": "python",
   "nbconvert_exporter": "python",
   "pygments_lexer": "ipython2",
   "version": "2.7.6"
  }
 },
 "nbformat": 4,
 "nbformat_minor": 5
}
