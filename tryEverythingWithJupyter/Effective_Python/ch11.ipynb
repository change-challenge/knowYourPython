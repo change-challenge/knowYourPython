{
 "cells": [
  {
   "cell_type": "code",
   "id": "initial_id",
   "metadata": {
    "collapsed": true,
    "ExecuteTime": {
     "end_time": "2025-01-20T00:16:40.505403Z",
     "start_time": "2025-01-20T00:16:40.499788Z"
    }
   },
   "source": [
    "x = ['빨간', '주황', '노란', '초록', '파란', '남색', '보라']\n",
    "odds = x[::2]\n",
    "evens = x[1::2]\n",
    "\n",
    "print(odds)\n",
    "print(evens)"
   ],
   "outputs": [
    {
     "name": "stdout",
     "output_type": "stream",
     "text": [
      "['빨간', '노란', '파란', '보라']\n",
      "['주황', '초록', '남색']\n"
     ]
    }
   ],
   "execution_count": 5
  },
  {
   "metadata": {
    "ExecuteTime": {
     "end_time": "2025-01-20T00:22:05.524521Z",
     "start_time": "2025-01-20T00:22:05.519584Z"
    }
   },
   "cell_type": "code",
   "source": [
    "x = b'mongoose'\n",
    "y = x[::2]\n",
    "z = x[1::2]\n",
    "\n",
    "print(x)\n",
    "print(y)\n",
    "print(z)\n"
   ],
   "id": "4bb3ce7ecf4ffef2",
   "outputs": [
    {
     "name": "stdout",
     "output_type": "stream",
     "text": [
      "b'mongoose'\n",
      "b'mnos'\n",
      "b'ogoe'\n"
     ]
    }
   ],
   "execution_count": 10
  },
  {
   "metadata": {
    "ExecuteTime": {
     "end_time": "2025-01-20T00:41:07.670212Z",
     "start_time": "2025-01-20T00:41:07.664087Z"
    }
   },
   "cell_type": "code",
   "source": [
    "# 유니코드 문자열과 유니코드 문자열을 utf-8로 인코딩한 바이트 문자열 사이의 차이를 알아야한다.\n",
    "# utf-8 인코딩의 바이트 순서를 뒤집으면 원래 utf-8 인코딩 바이트 문자열 코드에서 2 바이트 이상으로 이뤄졌던 문자들은 코드가 깨지기 떄문에,\n",
    "# 이 바이트 문자열을 유니코드 문자열로 디코딩할 수는 없다.\n",
    "# 단, 모든 문자가 아스키 코드 범위에 들어가는 문자라면 아무 문제가 없을 수도 있다.\n",
    "# (utf-8 인코딩에서 아스키 코드에 해당하는 글자들은 모두 아스키 코드와 같은 1바이트 값으로 인코딩된다.)\n",
    "\n",
    "x = '홍길동'\n",
    "y = x.encode('utf-8')\n",
    "# z = y[::-1].decode('utf-8') <- 이것이 오류 발생\n",
    "\n",
    "print(x)\n",
    "print(y)\n",
    "# print(z)"
   ],
   "id": "3e60e23ee395ddfc",
   "outputs": [
    {
     "name": "stdout",
     "output_type": "stream",
     "text": [
      "홍길동\n",
      "b'\\xed\\x99\\x8d\\xea\\xb8\\xb8\\xeb\\x8f\\x99'\n"
     ]
    }
   ],
   "execution_count": 17
  },
  {
   "metadata": {
    "ExecuteTime": {
     "end_time": "2025-01-20T00:47:48.635852Z",
     "start_time": "2025-01-20T00:47:48.629836Z"
    }
   },
   "cell_type": "code",
   "source": [
    "x = ['a', 'b', 'c', 'd', 'e', 'f', 'g', 'h']\n",
    "\n",
    "# print(x[2::2])\n",
    "# print(x[-2::-2])\n",
    "\n",
    "# 이런 식으로 작성하게 되면 해석하기 굉장히 어려워진다.\n",
    "# 즉, 이럴 때는 시작값이나 끝값을 증가값과 함께 사용하지않기를 권한다.\n",
    "# 예시\n",
    "\n",
    "y = x[::2]\n",
    "z = x[1:-1]\n",
    "print(y)\n",
    "print(z)"
   ],
   "id": "e318652f863a5393",
   "outputs": [
    {
     "name": "stdout",
     "output_type": "stream",
     "text": [
      "['a', 'c', 'e', 'g']\n",
      "['b', 'c', 'd', 'e', 'f', 'g']\n"
     ]
    }
   ],
   "execution_count": 24
  },
  {
   "metadata": {
    "ExecuteTime": {
     "end_time": "2025-01-20T00:51:45.077050Z",
     "start_time": "2025-01-20T00:51:45.072510Z"
    }
   },
   "cell_type": "code",
   "source": [
    "# 기억할 내용\n",
    "# 슬라이스에 시작과 끝과 증가값을 사용하지 말아라 / 되도록 음수를 사용하지 말아라\n",
    "# 시작, 끝, 증가값을 모두 사용해야한다면, 시간과 메모리를 감당할 수 없다면 itertools의 islice를 사용하자.\n",
    "\n",
    "# islice(iterable, start, stop, step)\n",
    "# iterable : 슬라이싱할 대상\n",
    "# start : 시작 인덱스\n",
    "# stop : 종료 인덱스\n",
    "# step : 증가값\n",
    "\n",
    "#islice 예시\n",
    "import itertools\n",
    "\n",
    "a = ['a', 'b', 'c', 'd', 'e', 'f', 'g', 'h']\n",
    "y = itertools.islice(a, 2, None, 2)\n",
    "z = itertools.islice(a, 1, 7)\n",
    "\n",
    "print(type(y))\n",
    "\n",
    "print(list(y))\n",
    "print(list(z))"
   ],
   "id": "7b88ad20ef987683",
   "outputs": [
    {
     "name": "stdout",
     "output_type": "stream",
     "text": [
      "<class 'itertools.islice'>\n",
      "['c', 'e', 'g']\n",
      "['b', 'c', 'd', 'e', 'f', 'g']\n"
     ]
    }
   ],
   "execution_count": 26
  },
  {
   "metadata": {
    "ExecuteTime": {
     "end_time": "2025-01-21T05:32:28.442780Z",
     "start_time": "2025-01-21T05:32:28.431796Z"
    }
   },
   "cell_type": "code",
   "source": [
    "import sys\n",
    "\n",
    "print('\\n'.join(sys.path))"
   ],
   "id": "8aac13935a89a6d",
   "outputs": [
    {
     "name": "stdout",
     "output_type": "stream",
     "text": [
      "/Users/hojinjang/SK오앤에스/knowYourPython/tryEverythingWithJupyter\n",
      "/Applications/PyCharm.app/Contents/plugins/python-ce/helpers/pydev\n",
      "/Applications/PyCharm.app/Contents/plugins/python/helpers-pro/jupyter_debug\n",
      "/Users/hojinjang/.pyenv/versions/3.11.5/lib/python311.zip\n",
      "/Users/hojinjang/.pyenv/versions/3.11.5/lib/python3.11\n",
      "/Users/hojinjang/.pyenv/versions/3.11.5/lib/python3.11/lib-dynload\n",
      "\n",
      "/Users/hojinjang/Library/Caches/pypoetry/virtualenvs/langchain-kr-VsOGhLgk-py3.11/lib/python3.11/site-packages\n"
     ]
    }
   ],
   "execution_count": 1
  },
  {
   "metadata": {},
   "cell_type": "code",
   "outputs": [],
   "execution_count": null,
   "source": "",
   "id": "5a03d11fd0c19758"
  }
 ],
 "metadata": {
  "kernelspec": {
   "display_name": "Python 3",
   "language": "python",
   "name": "python3"
  },
  "language_info": {
   "codemirror_mode": {
    "name": "ipython",
    "version": 2
   },
   "file_extension": ".py",
   "mimetype": "text/x-python",
   "name": "python",
   "nbconvert_exporter": "python",
   "pygments_lexer": "ipython2",
   "version": "2.7.6"
  }
 },
 "nbformat": 4,
 "nbformat_minor": 5
}
