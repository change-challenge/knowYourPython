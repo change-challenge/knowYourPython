{
 "cells": [
  {
   "metadata": {},
   "cell_type": "markdown",
   "source": [
    "# This is a sample Jupyter Notebook\n",
    "\n",
    "Below is an example of a code cell. \n",
    "Put your cursor into the cell and press Shift+Enter to execute it and select the next one, or click 'Run Cell' button.\n",
    "\n",
    "Press Double Shift to search everywhere for classes, files, tool windows, actions, and settings.\n",
    "\n",
    "To learn more about Jupyter Notebooks in PyCharm, see [help](https://www.jetbrains.com/help/pycharm/ipython-notebook-support.html).\n",
    "For an overview of PyCharm, go to Help -> Learn IDE features or refer to [our documentation](https://www.jetbrains.com/help/pycharm/getting-started.html)."
   ],
   "id": "8a77807f92f26ee"
  },
  {
   "metadata": {
    "ExecuteTime": {
     "end_time": "2025-01-17T05:07:07.150162Z",
     "start_time": "2025-01-17T05:07:07.146244Z"
    }
   },
   "cell_type": "code",
   "source": "print(\"Hello World!\")",
   "id": "fbc121e30a2defb3",
   "outputs": [
    {
     "name": "stdout",
     "output_type": "stream",
     "text": [
      "Hello World!\n"
     ]
    }
   ],
   "execution_count": 2
  },
  {
   "metadata": {
    "ExecuteTime": {
     "end_time": "2025-01-17T05:22:14.580199Z",
     "start_time": "2025-01-17T05:22:14.572039Z"
    }
   },
   "cell_type": "code",
   "source": [
    "a = ['a', 'b', 'c', 'd', 'e', 'f', 'g', 'h']\n",
    "print(\"원본 a : \", a)\n",
    "# print('가운데 2개 : ', a[3:5])\n",
    "# print('마지막을 제외 : ', a[1:7])\n",
    "\n",
    "b = a[:]\n",
    "\n",
    "print('이전 a : ', a)\n",
    "print('이전 b : ', b)\n",
    "\n",
    "a[2] = 99\n",
    "\n",
    "# assert a is b\n",
    "print('이후 a : ', a)\n",
    "print('이후 b : ', b)"
   ],
   "id": "ad91f27b96610db0",
   "outputs": [
    {
     "name": "stdout",
     "output_type": "stream",
     "text": [
      "원본 a :  ['a', 'b', 'c', 'd', 'e', 'f', 'g', 'h']\n",
      "이전 a :  ['a', 'b', 'c', 'd', 'e', 'f', 'g', 'h']\n",
      "이전 b :  ['a', 'b', 'c', 'd', 'e', 'f', 'g', 'h']\n",
      "이후 a :  ['a', 'b', 99, 'd', 'e', 'f', 'g', 'h']\n",
      "이후 b :  ['a', 'b', 'c', 'd', 'e', 'f', 'g', 'h']\n"
     ]
    }
   ],
   "execution_count": 34
  },
  {
   "metadata": {},
   "cell_type": "code",
   "outputs": [],
   "execution_count": null,
   "source": "",
   "id": "fd19b1d39a72885c"
  }
 ],
 "metadata": {
  "kernelspec": {
   "display_name": "Python 3",
   "language": "python",
   "name": "python3"
  },
  "language_info": {
   "codemirror_mode": {
    "name": "ipython",
    "version": 2
   },
   "file_extension": ".py",
   "mimetype": "text/x-python",
   "name": "python",
   "nbconvert_exporter": "python",
   "pygments_lexer": "ipython2",
   "version": "2.7.6"
  }
 },
 "nbformat": 4,
 "nbformat_minor": 5
}
